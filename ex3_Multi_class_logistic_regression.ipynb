{
 "cells": [
  {
   "cell_type": "markdown",
   "metadata": {},
   "source": [
    "Get the data"
   ]
  },
  {
   "cell_type": "code",
   "execution_count": 3,
   "metadata": {},
   "outputs": [],
   "source": [
    "import numpy as np\n",
    "import pandas as pd\n",
    "import matplotlib.pyplot as plt\n",
    "from scipy.io import loadmat"
   ]
  },
  {
   "cell_type": "code",
   "execution_count": 9,
   "metadata": {},
   "outputs": [
    {
     "data": {
      "text/plain": [
       "((5000, 400), (5000, 1))"
      ]
     },
     "execution_count": 9,
     "metadata": {},
     "output_type": "execute_result"
    }
   ],
   "source": [
    "data = loadmat('D:/ProgrammingBook/AndrewNg/ex3data1.mat')\n",
    "data[\"X\"].shape, data[\"y\"].shape"
   ]
  },
  {
   "cell_type": "code",
   "execution_count": 10,
   "metadata": {},
   "outputs": [
    {
     "data": {
      "image/png": "[encoded data removed]",
      "text/plain": [
       "<Figure size 432x288 with 1 Axes>"
      ]
     },
     "metadata": {
      "needs_background": "light"
     },
     "output_type": "display_data"
    }
   ],
   "source": [
    "def sigmoid(x):\n",
    "    return 1/(1+np.exp(-x))\n",
    "example_x = np.arange(-10,10,step=1)\n",
    "example_y = sigmoid(example_x)\n",
    "plt.plot(example_x, example_y,c='r')\n",
    "plt.show()"
   ]
  },
  {
   "cell_type": "code",
   "execution_count": 11,
   "metadata": {},
   "outputs": [],
   "source": [
    "def cost(theta, x ,y, lambda_):\n",
    "    theta = np.expand_dims(theta, axis = 1)\n",
    "    product = np.dot(x,theta)\n",
    "    hypo1 = sigmoid(product)\n",
    "    hypo2 = 1-hypo1\n",
    "    log1 = np.log(hypo1)\n",
    "    log2 = np.log(hypo2)\n",
    "    sum1 = y*log1\n",
    "    sum2 = (1-y)*log2\n",
    "    sum_values = -(sum1+sum2)\n",
    "    sum_theta = np.power(theta, 2)\n",
    "    m = len(x)\n",
    "    return np.sum(sum_values)/m+lambda_*np.sum(sum_theta)/(2*m)"
   ]
  },
  {
   "cell_type": "code",
   "execution_count": 17,
   "metadata": {},
   "outputs": [
    {
     "data": {
      "text/plain": [
       "array([ 1,  2,  3,  4,  5,  6,  7,  8,  9, 10], dtype=uint8)"
      ]
     },
     "execution_count": 17,
     "metadata": {},
     "output_type": "execute_result"
    }
   ],
   "source": [
    "np.unique(data['y'])"
   ]
  },
  {
   "cell_type": "markdown",
   "metadata": {},
   "source": [
    "Prepare the data"
   ]
  },
  {
   "cell_type": "code",
   "execution_count": 56,
   "metadata": {},
   "outputs": [
    {
     "data": {
      "text/plain": [
       "((5000, 401), (5000, 1), (401,))"
      ]
     },
     "execution_count": 56,
     "metadata": {},
     "output_type": "execute_result"
    }
   ],
   "source": [
    "a = np.ones((data['X'].shape[0],1))\n",
    "x = np.c_[a, data['X']]\n",
    "y = data['y']\n",
    "theta = np.zeros(x.shape[1])\n",
    "x.shape, y.shape, theta.shape"
   ]
  },
  {
   "cell_type": "code",
   "execution_count": 28,
   "metadata": {},
   "outputs": [],
   "source": [
    "def gradient(theta, x, y, lambda_):\n",
    "    theta = np.expand_dims(theta, axis = 1)\n",
    "    product = np.dot(x, theta)\n",
    "    error = sigmoid(product)-y\n",
    "    grad = ((error.T@x).T+lambda_*theta)/len(x)\n",
    "    grad[0,0] = np.sum(error*x[:,0])/len(x)\n",
    "    return grad.ravel()\n"
   ]
  },
  {
   "cell_type": "markdown",
   "metadata": {},
   "source": [
    "如果利用logistic regression进行多分类，则需要多个分类器，每个分类器负责一个数字的是与非。"
   ]
  },
  {
   "cell_type": "code",
   "execution_count": 32,
   "metadata": {},
   "outputs": [
    {
     "data": {
      "text/plain": [
       "10"
      ]
     },
     "execution_count": 32,
     "metadata": {},
     "output_type": "execute_result"
    }
   ],
   "source": [
    "np.unique(y).shape[0]"
   ]
  },
  {
   "cell_type": "code",
   "execution_count": 36,
   "metadata": {},
   "outputs": [],
   "source": [
    "from scipy.optimize import minimize\n",
    "import scipy.optimize as opt"
   ]
  },
  {
   "cell_type": "code",
   "execution_count": 40,
   "metadata": {},
   "outputs": [],
   "source": [
    "def one_vs_all(numbers, x, y, lambda_):\n",
    "    parameters = x.shape[1]\n",
    "    all_theta = np.zeros((numbers, parameters))\n",
    "    for i in range(1, numbers+1):\n",
    "        theta = np.zeros(parameters)\n",
    "        y_i = np.array([1 if label==i else 0 for label in y])\n",
    "        y_i = np.expand_dims(y_i, axis = 1)\n",
    "        print(y_i.shape)\n",
    "        #fmin = minimize(fun=cost, x0=theta, args=(x,y_i,lambda_),method='TNC',jac=gradient)\n",
    "        fmin = opt.fmin_tnc(func=cost, x0=theta, args = (x,y_i, lambda_), fprime=gradient)\n",
    "        all_theta[i-1,:] = fmin[0]\n",
    "    return all_theta"
   ]
  },
  {
   "cell_type": "code",
   "execution_count": 41,
   "metadata": {},
   "outputs": [
    {
     "name": "stdout",
     "output_type": "stream",
     "text": [
      "(5000, 1)\n"
     ]
    },
    {
     "name": "stderr",
     "output_type": "stream",
     "text": [
      "C:\\tools\\Anaconda3\\lib\\site-packages\\ipykernel_launcher.py:7: RuntimeWarning: divide by zero encountered in log\n",
      "  import sys\n",
      "C:\\tools\\Anaconda3\\lib\\site-packages\\ipykernel_launcher.py:9: RuntimeWarning: invalid value encountered in multiply\n",
      "  if __name__ == '__main__':\n"
     ]
    },
    {
     "name": "stdout",
     "output_type": "stream",
     "text": [
      "(5000, 1)\n",
      "(5000, 1)\n"
     ]
    },
    {
     "name": "stderr",
     "output_type": "stream",
     "text": [
      "C:\\tools\\Anaconda3\\lib\\site-packages\\ipykernel_launcher.py:6: RuntimeWarning: divide by zero encountered in log\n",
      "  \n",
      "C:\\tools\\Anaconda3\\lib\\site-packages\\ipykernel_launcher.py:8: RuntimeWarning: invalid value encountered in multiply\n",
      "  \n"
     ]
    },
    {
     "name": "stdout",
     "output_type": "stream",
     "text": [
      "(5000, 1)\n",
      "(5000, 1)\n",
      "(5000, 1)\n",
      "(5000, 1)\n",
      "(5000, 1)\n",
      "(5000, 1)\n",
      "(5000, 1)\n"
     ]
    }
   ],
   "source": [
    "x.shape, y.shape\n",
    "all_theta = one_vs_all(10, x, y, 1)"
   ]
  },
  {
   "cell_type": "code",
   "execution_count": 45,
   "metadata": {},
   "outputs": [
    {
     "data": {
      "text/plain": [
       "array([[-1.52462426e-02,  0.00000000e+00,  0.00000000e+00, ...,\n",
       "         1.98432186e-05,  6.72206481e-07,  0.00000000e+00],\n",
       "       [-4.90670091e+00,  0.00000000e+00,  0.00000000e+00, ...,\n",
       "         6.18980651e-05, -5.55282909e-06,  0.00000000e+00],\n",
       "       [-3.90288404e+00,  0.00000000e+00,  0.00000000e+00, ...,\n",
       "        -1.04682032e-05,  1.73210528e-07,  0.00000000e+00],\n",
       "       ...,\n",
       "       [-5.98961341e-15,  0.00000000e+00,  0.00000000e+00, ...,\n",
       "        -5.56307244e-21,  5.72837259e-22,  0.00000000e+00],\n",
       "       [-3.68955941e+00,  0.00000000e+00,  0.00000000e+00, ...,\n",
       "        -1.13142829e-05,  1.19050783e-06,  0.00000000e+00],\n",
       "       [-3.57599979e+00,  0.00000000e+00,  0.00000000e+00, ...,\n",
       "        -2.12196475e-05,  5.65266883e-07,  0.00000000e+00]])"
      ]
     },
     "execution_count": 45,
     "metadata": {},
     "output_type": "execute_result"
    }
   ],
   "source": [
    "all_theta"
   ]
  },
  {
   "cell_type": "code",
   "execution_count": 47,
   "metadata": {},
   "outputs": [
    {
     "data": {
      "text/plain": [
       "(10, 401)"
      ]
     },
     "execution_count": 47,
     "metadata": {},
     "output_type": "execute_result"
    }
   ],
   "source": [
    "all_theta.shape"
   ]
  },
  {
   "cell_type": "code",
   "execution_count": 55,
   "metadata": {},
   "outputs": [
    {
     "data": {
      "text/plain": [
       "array([2, 1], dtype=int64)"
      ]
     },
     "execution_count": 55,
     "metadata": {},
     "output_type": "execute_result"
    }
   ],
   "source": [
    "x_ = np.array([[1,2,3],[5,6,4]])\n",
    "np.argmax(x,axis = 1)"
   ]
  },
  {
   "cell_type": "code",
   "execution_count": 52,
   "metadata": {},
   "outputs": [],
   "source": [
    "def predict_all(theta, x):\n",
    "    product = np.dot(x, theta.T)\n",
    "    hypo = sigmoid(product)\n",
    "    predictions = np.argmax(hypo,axis=1)\n",
    "    predictions = predictions+1\n",
    "    return predictions"
   ]
  },
  {
   "cell_type": "code",
   "execution_count": 62,
   "metadata": {},
   "outputs": [
    {
     "name": "stdout",
     "output_type": "stream",
     "text": [
      "Accuracy: 0.751\n"
     ]
    }
   ],
   "source": [
    "predictions = predict_all(all_theta, x)\n",
    "result = [1 if(a==b) else 0 for (a,b) in zip(predictions,y)]\n",
    "result = np.array(result)\n",
    "acc = np.sum(result==1)/len(result)\n",
    "print(\"Accuracy:\", acc)"
   ]
  }
 ],
 "metadata": {
  "kernelspec": {
   "display_name": "Python 3",
   "language": "python",
   "name": "python3"
  },
  "language_info": {
   "codemirror_mode": {
    "name": "ipython",
    "version": 3
   },
   "file_extension": ".py",
   "mimetype": "text/x-python",
   "name": "python",
   "nbconvert_exporter": "python",
   "pygments_lexer": "ipython3",
   "version": "3.7.3"
  }
 },
 "nbformat": 4,
 "nbformat_minor": 2
}
