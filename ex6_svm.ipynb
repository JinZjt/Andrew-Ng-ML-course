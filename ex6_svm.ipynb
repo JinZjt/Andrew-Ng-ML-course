{
 "cells": [
  {
   "cell_type": "code",
   "execution_count": 2,
   "metadata": {},
   "outputs": [
    {
     "data": {
      "text/plain": [
       "{'__header__': b'MATLAB 5.0 MAT-file, Platform: GLNXA64, Created on: Sun Nov 13 14:28:43 2011',\n",
       " '__version__': '1.0',\n",
       " '__globals__': [],\n",
       " 'X': array([[1.9643  , 4.5957  ],\n",
       "        [2.2753  , 3.8589  ],\n",
       "        [2.9781  , 4.5651  ],\n",
       "        [2.932   , 3.5519  ],\n",
       "        [3.5772  , 2.856   ],\n",
       "        [4.015   , 3.1937  ],\n",
       "        [3.3814  , 3.4291  ],\n",
       "        [3.9113  , 4.1761  ],\n",
       "        [2.7822  , 4.0431  ],\n",
       "        [2.5518  , 4.6162  ],\n",
       "        [3.3698  , 3.9101  ],\n",
       "        [3.1048  , 3.0709  ],\n",
       "        [1.9182  , 4.0534  ],\n",
       "        [2.2638  , 4.3706  ],\n",
       "        [2.6555  , 3.5008  ],\n",
       "        [3.1855  , 4.2888  ],\n",
       "        [3.6579  , 3.8692  ],\n",
       "        [3.9113  , 3.4291  ],\n",
       "        [3.6002  , 3.1221  ],\n",
       "        [3.0357  , 3.3165  ],\n",
       "        [1.5841  , 3.3575  ],\n",
       "        [2.0103  , 3.2039  ],\n",
       "        [1.9527  , 2.7843  ],\n",
       "        [2.2753  , 2.7127  ],\n",
       "        [2.3099  , 2.9584  ],\n",
       "        [2.8283  , 2.6309  ],\n",
       "        [3.0473  , 2.2931  ],\n",
       "        [2.4827  , 2.0373  ],\n",
       "        [2.5057  , 2.3853  ],\n",
       "        [1.8721  , 2.0577  ],\n",
       "        [2.0103  , 2.3546  ],\n",
       "        [1.2269  , 2.3239  ],\n",
       "        [1.8951  , 2.9174  ],\n",
       "        [1.561   , 3.0709  ],\n",
       "        [1.5495  , 2.6923  ],\n",
       "        [1.6878  , 2.4057  ],\n",
       "        [1.4919  , 2.0271  ],\n",
       "        [0.962   , 2.682   ],\n",
       "        [1.1693  , 2.9276  ],\n",
       "        [0.8122  , 2.9992  ],\n",
       "        [0.9735  , 3.3881  ],\n",
       "        [1.25    , 3.1937  ],\n",
       "        [1.3191  , 3.5109  ],\n",
       "        [2.2292  , 2.201   ],\n",
       "        [2.4482  , 2.6411  ],\n",
       "        [2.7938  , 1.9656  ],\n",
       "        [2.091   , 1.6177  ],\n",
       "        [2.5403  , 2.8867  ],\n",
       "        [0.9044  , 3.0198  ],\n",
       "        [0.76615 , 2.5899  ],\n",
       "        [0.086405, 4.1045  ]]),\n",
       " 'y': array([[1],\n",
       "        [1],\n",
       "        [1],\n",
       "        [1],\n",
       "        [1],\n",
       "        [1],\n",
       "        [1],\n",
       "        [1],\n",
       "        [1],\n",
       "        [1],\n",
       "        [1],\n",
       "        [1],\n",
       "        [1],\n",
       "        [1],\n",
       "        [1],\n",
       "        [1],\n",
       "        [1],\n",
       "        [1],\n",
       "        [1],\n",
       "        [1],\n",
       "        [0],\n",
       "        [0],\n",
       "        [0],\n",
       "        [0],\n",
       "        [0],\n",
       "        [0],\n",
       "        [0],\n",
       "        [0],\n",
       "        [0],\n",
       "        [0],\n",
       "        [0],\n",
       "        [0],\n",
       "        [0],\n",
       "        [0],\n",
       "        [0],\n",
       "        [0],\n",
       "        [0],\n",
       "        [0],\n",
       "        [0],\n",
       "        [0],\n",
       "        [0],\n",
       "        [0],\n",
       "        [0],\n",
       "        [0],\n",
       "        [0],\n",
       "        [0],\n",
       "        [0],\n",
       "        [0],\n",
       "        [0],\n",
       "        [0],\n",
       "        [1]], dtype=uint8)}"
      ]
     },
     "execution_count": 2,
     "metadata": {},
     "output_type": "execute_result"
    }
   ],
   "source": [
    "import numpy as np\n",
    "import pandas as pd \n",
    "import matplotlib.pyplot as plt\n",
    "from scipy.io import loadmat\n",
    "data = loadmat('D:/ProgrammingBook/AndrewNg/ex6data1.mat')\n",
    "data"
   ]
  },
  {
   "cell_type": "code",
   "execution_count": 7,
   "metadata": {},
   "outputs": [
    {
     "name": "stdout",
     "output_type": "stream",
     "text": [
      "(21, 3) (30, 3) (51, 1)\n"
     ]
    }
   ],
   "source": [
    "df = pd.DataFrame(data['X'], columns=['x1','x2'])\n",
    "df['y'] = data['y']\n",
    "positive = df[df['y']==1]\n",
    "negative = df[df['y']==0]\n",
    "print(positive.shape, negative.shape,data['y'].shape)"
   ]
  },
  {
   "cell_type": "code",
   "execution_count": 9,
   "metadata": {},
   "outputs": [
    {
     "data": {
      "image/png": "[encoded data removed]",
      "text/plain": [
       "<Figure size 864x576 with 1 Axes>"
      ]
     },
     "metadata": {
      "needs_background": "light"
     },
     "output_type": "display_data"
    }
   ],
   "source": [
    "fig,ax = plt.subplots(figsize = (12,8))\n",
    "ax.scatter(positive['x1'], positive['x2'], c = 'r', marker = 'x')\n",
    "ax.scatter(negative['x1'], negative['x2'], c = 'b', marker = 'o')\n",
    "plt.show()"
   ]
  },
  {
   "cell_type": "code",
   "execution_count": 24,
   "metadata": {},
   "outputs": [
    {
     "data": {
      "text/plain": [
       "LinearSVC(C=1, class_weight=None, dual=True, fit_intercept=True,\n",
       "     intercept_scaling=1, loss='hinge', max_iter=1000, multi_class='ovr',\n",
       "     penalty='l2', random_state=None, tol=0.0001, verbose=0)"
      ]
     },
     "execution_count": 24,
     "metadata": {},
     "output_type": "execute_result"
    }
   ],
   "source": [
    "from sklearn import svm\n",
    "svc = svm.LinearSVC(C=1, loss = 'hinge', max_iter=1000)\n",
    "svc"
   ]
  },
  {
   "cell_type": "code",
   "execution_count": 25,
   "metadata": {},
   "outputs": [
    {
     "name": "stderr",
     "output_type": "stream",
     "text": [
      "C:\\tools\\Anaconda3\\lib\\site-packages\\sklearn\\utils\\validation.py:761: DataConversionWarning: A column-vector y was passed when a 1d array was expected. Please change the shape of y to (n_samples, ), for example using ravel().\n",
      "  y = column_or_1d(y, warn=True)\n",
      "C:\\tools\\Anaconda3\\lib\\site-packages\\sklearn\\svm\\base.py:931: ConvergenceWarning: Liblinear failed to converge, increase the number of iterations.\n",
      "  \"the number of iterations.\", ConvergenceWarning)\n"
     ]
    },
    {
     "data": {
      "text/plain": [
       "0.9803921568627451"
      ]
     },
     "execution_count": 25,
     "metadata": {},
     "output_type": "execute_result"
    }
   ],
   "source": [
    "svc.fit(df[['x1','x2']], data['y'])\n",
    "svc.score(df[['x1','x2']], data['y'])"
   ]
  },
  {
   "cell_type": "code",
   "execution_count": 26,
   "metadata": {},
   "outputs": [
    {
     "name": "stderr",
     "output_type": "stream",
     "text": [
      "C:\\tools\\Anaconda3\\lib\\site-packages\\sklearn\\utils\\validation.py:761: DataConversionWarning: A column-vector y was passed when a 1d array was expected. Please change the shape of y to (n_samples, ), for example using ravel().\n",
      "  y = column_or_1d(y, warn=True)\n",
      "C:\\tools\\Anaconda3\\lib\\site-packages\\sklearn\\svm\\base.py:931: ConvergenceWarning: Liblinear failed to converge, increase the number of iterations.\n",
      "  \"the number of iterations.\", ConvergenceWarning)\n"
     ]
    },
    {
     "data": {
      "text/plain": [
       "0.9019607843137255"
      ]
     },
     "execution_count": 26,
     "metadata": {},
     "output_type": "execute_result"
    }
   ],
   "source": [
    "svc = svm.LinearSVC(C=100, loss = 'hinge', max_iter=1000)\n",
    "svc.fit(df[['x1','x2']], data['y'])\n",
    "svc.score(df[['x1','x2']], data['y'])"
   ]
  },
  {
   "cell_type": "code",
   "execution_count": 29,
   "metadata": {},
   "outputs": [
    {
     "data": {
      "image/png": "[encoded data removed]",
      "text/plain": [
       "<Figure size 864x576 with 1 Axes>"
      ]
     },
     "metadata": {
      "needs_background": "light"
     },
     "output_type": "display_data"
    }
   ],
   "source": [
    "df['SVM_1_Confidence'] = svc.decision_function(df[['x1','x2']])\n",
    "fig,ax = plt.subplots(figsize = (12,8))\n",
    "ax.scatter(df['x1'], df['x2'], s = 50, \n",
    "           c = df['SVM_1_Confidence'], cmap = 'seismic')\n",
    "plt.show()#c=100"
   ]
  },
  {
   "cell_type": "code",
   "execution_count": 30,
   "metadata": {},
   "outputs": [
    {
     "name": "stderr",
     "output_type": "stream",
     "text": [
      "C:\\tools\\Anaconda3\\lib\\site-packages\\sklearn\\utils\\validation.py:761: DataConversionWarning: A column-vector y was passed when a 1d array was expected. Please change the shape of y to (n_samples, ), for example using ravel().\n",
      "  y = column_or_1d(y, warn=True)\n",
      "C:\\tools\\Anaconda3\\lib\\site-packages\\sklearn\\svm\\base.py:931: ConvergenceWarning: Liblinear failed to converge, increase the number of iterations.\n",
      "  \"the number of iterations.\", ConvergenceWarning)\n"
     ]
    },
    {
     "data": {
      "text/plain": [
       "0.9803921568627451"
      ]
     },
     "execution_count": 30,
     "metadata": {},
     "output_type": "execute_result"
    }
   ],
   "source": [
    "svc = svm.LinearSVC(C=1, loss = 'hinge', max_iter=1000)\n",
    "svc.fit(df[['x1','x2']], data['y'])\n",
    "svc.score(df[['x1','x2']], data['y'])"
   ]
  },
  {
   "cell_type": "code",
   "execution_count": 31,
   "metadata": {},
   "outputs": [
    {
     "data": {
      "image/png": "[encoded data removed]",
      "text/plain": [
       "<Figure size 864x576 with 1 Axes>"
      ]
     },
     "metadata": {
      "needs_background": "light"
     },
     "output_type": "display_data"
    }
   ],
   "source": [
    "df['SVM_2_Confidence'] = svc.decision_function(df[['x1','x2']])\n",
    "fig,ax = plt.subplots(figsize = (12,8))\n",
    "ax.scatter(df['x1'], df['x2'], s = 50, \n",
    "           c = df['SVM_2_Confidence'], cmap = 'seismic')\n",
    "plt.show()#c=1"
   ]
  }
 ],
 "metadata": {
  "kernelspec": {
   "display_name": "Python 3",
   "language": "python",
   "name": "python3"
  },
  "language_info": {
   "codemirror_mode": {
    "name": "ipython",
    "version": 3
   },
   "file_extension": ".py",
   "mimetype": "text/x-python",
   "name": "python",
   "nbconvert_exporter": "python",
   "pygments_lexer": "ipython3",
   "version": "3.7.3"
  }
 },
 "nbformat": 4,
 "nbformat_minor": 2
}
