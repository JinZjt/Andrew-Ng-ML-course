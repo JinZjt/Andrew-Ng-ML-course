{
 "cells": [
  {
   "cell_type": "code",
   "execution_count": 2,
   "metadata": {},
   "outputs": [],
   "source": [
    "import numpy as np\n",
    "import pandas as pd\n",
    "import matplotlib.pyplot as plt\n",
    "from scipy.io import loadmat"
   ]
  },
  {
   "cell_type": "markdown",
   "metadata": {},
   "source": [
    "Get the data"
   ]
  },
  {
   "cell_type": "code",
   "execution_count": 3,
   "metadata": {},
   "outputs": [
    {
     "data": {
      "text/plain": [
       "{'__header__': b'MATLAB 5.0 MAT-file, Platform: GLNXA64, Created on: Fri Nov  4 22:27:26 2011',\n",
       " '__version__': '1.0',\n",
       " '__globals__': [],\n",
       " 'X': array([[-15.93675813],\n",
       "        [-29.15297922],\n",
       "        [ 36.18954863],\n",
       "        [ 37.49218733],\n",
       "        [-48.05882945],\n",
       "        [ -8.94145794],\n",
       "        [ 15.30779289],\n",
       "        [-34.70626581],\n",
       "        [  1.38915437],\n",
       "        [-44.38375985],\n",
       "        [  7.01350208],\n",
       "        [ 22.76274892]]),\n",
       " 'y': array([[ 2.13431051],\n",
       "        [ 1.17325668],\n",
       "        [34.35910918],\n",
       "        [36.83795516],\n",
       "        [ 2.80896507],\n",
       "        [ 2.12107248],\n",
       "        [14.71026831],\n",
       "        [ 2.61418439],\n",
       "        [ 3.74017167],\n",
       "        [ 3.73169131],\n",
       "        [ 7.62765885],\n",
       "        [22.7524283 ]]),\n",
       " 'Xtest': array([[-33.31800399],\n",
       "        [-37.91216403],\n",
       "        [-51.20693795],\n",
       "        [ -6.13259585],\n",
       "        [ 21.26118327],\n",
       "        [-40.31952949],\n",
       "        [-14.54153167],\n",
       "        [ 32.55976024],\n",
       "        [ 13.39343255],\n",
       "        [ 44.20988595],\n",
       "        [ -1.14267768],\n",
       "        [-12.76686065],\n",
       "        [ 34.05450539],\n",
       "        [ 39.22350028],\n",
       "        [  1.97449674],\n",
       "        [ 29.6217551 ],\n",
       "        [-23.66962971],\n",
       "        [ -9.01180139],\n",
       "        [-55.94057091],\n",
       "        [-35.70859752],\n",
       "        [  9.51020533]]),\n",
       " 'ytest': array([[ 3.31688953],\n",
       "        [ 5.39768952],\n",
       "        [ 0.13042984],\n",
       "        [ 6.1925982 ],\n",
       "        [17.08848712],\n",
       "        [ 0.79950805],\n",
       "        [ 2.82479183],\n",
       "        [28.62123334],\n",
       "        [17.04639081],\n",
       "        [55.38437334],\n",
       "        [ 4.07936733],\n",
       "        [ 8.27039793],\n",
       "        [31.32355102],\n",
       "        [39.15906103],\n",
       "        [ 8.08727989],\n",
       "        [24.11134389],\n",
       "        [ 2.4773548 ],\n",
       "        [ 6.56606472],\n",
       "        [ 6.0380888 ],\n",
       "        [ 4.69273956],\n",
       "        [10.83004606]]),\n",
       " 'Xval': array([[-16.74653578],\n",
       "        [-14.57747075],\n",
       "        [ 34.51575866],\n",
       "        [-47.01007574],\n",
       "        [ 36.97511905],\n",
       "        [-40.68611002],\n",
       "        [ -4.47201098],\n",
       "        [ 26.53363489],\n",
       "        [-42.7976831 ],\n",
       "        [ 25.37409938],\n",
       "        [-31.10955398],\n",
       "        [ 27.31176864],\n",
       "        [ -3.26386201],\n",
       "        [ -1.81827649],\n",
       "        [-40.7196624 ],\n",
       "        [-50.01324365],\n",
       "        [-17.41177155],\n",
       "        [  3.5881937 ],\n",
       "        [  7.08548026],\n",
       "        [ 46.28236902],\n",
       "        [ 14.61228909]]),\n",
       " 'yval': array([[ 4.17020201e+00],\n",
       "        [ 4.06726280e+00],\n",
       "        [ 3.18730676e+01],\n",
       "        [ 1.06236562e+01],\n",
       "        [ 3.18360213e+01],\n",
       "        [ 4.95936972e+00],\n",
       "        [ 4.45159880e+00],\n",
       "        [ 2.22763185e+01],\n",
       "        [-4.38738274e-05],\n",
       "        [ 2.05038016e+01],\n",
       "        [ 3.85834476e+00],\n",
       "        [ 1.93650529e+01],\n",
       "        [ 4.88376281e+00],\n",
       "        [ 1.10971588e+01],\n",
       "        [ 7.46170827e+00],\n",
       "        [ 1.47693464e+00],\n",
       "        [ 2.71916388e+00],\n",
       "        [ 1.09269007e+01],\n",
       "        [ 8.34871235e+00],\n",
       "        [ 5.27819280e+01],\n",
       "        [ 1.33573396e+01]])}"
      ]
     },
     "execution_count": 3,
     "metadata": {},
     "output_type": "execute_result"
    }
   ],
   "source": [
    "data = loadmat('D:/ProgrammingBook/AndrewNg/ex5data1.mat')\n",
    "data"
   ]
  },
  {
   "cell_type": "code",
   "execution_count": 89,
   "metadata": {},
   "outputs": [
    {
     "data": {
      "text/plain": [
       "((12, 1), (12, 1), (21, 1), (21, 1), (21, 1), (21, 1))"
      ]
     },
     "execution_count": 89,
     "metadata": {},
     "output_type": "execute_result"
    }
   ],
   "source": [
    "xtrain, ytrain, xtest, ytest, xval, yval = data['X'], data['y'], data['Xtest'], data['ytest'], data['Xval'], data['yval']\n",
    "xtrain.shape, ytrain.shape, xtest.shape, ytest.shape, xval.shape, yval.shape"
   ]
  },
  {
   "cell_type": "markdown",
   "metadata": {},
   "source": [
    "Visualization"
   ]
  },
  {
   "cell_type": "code",
   "execution_count": 33,
   "metadata": {},
   "outputs": [
    {
     "data": {
      "image/png": "[encoded data removed]",
      "text/plain": [
       "<Figure size 864x576 with 1 Axes>"
      ]
     },
     "metadata": {
      "needs_background": "light"
     },
     "output_type": "display_data"
    }
   ],
   "source": [
    "fig, ax = plt.subplots(figsize = (12,8))\n",
    "ax.scatter(xtrain, ytrain, c = 'r', marker = 'x')\n",
    "plt.show()"
   ]
  },
  {
   "cell_type": "code",
   "execution_count": 55,
   "metadata": {},
   "outputs": [],
   "source": [
    "def cost(theta, x, y, lambda_):\n",
    "    m = x.shape[0]\n",
    "    theta = np.matrix(theta)\n",
    "    #print(theta.shape)\n",
    "    hypo = np.dot(x, theta.T)\n",
    "    error = hypo - y\n",
    "    J=0\n",
    "    J = np.sum(np.power(error, 2))/(2*m)+lambda_*np.sum(np.power(theta[0,1:], 2))/(2*m)\n",
    "    #print(theta.shape, x.shape, y.shape, lambda_)\n",
    "    return J"
   ]
  },
  {
   "cell_type": "code",
   "execution_count": 90,
   "metadata": {},
   "outputs": [],
   "source": [
    "theta = np.ones(2)\n",
    "a = np.ones((xtrain.shape[0],1))\n",
    "xtrain = np.c_[a, xtrain]"
   ]
  },
  {
   "cell_type": "code",
   "execution_count": 56,
   "metadata": {},
   "outputs": [
    {
     "data": {
      "text/plain": [
       "303.9931922202643"
      ]
     },
     "execution_count": 56,
     "metadata": {},
     "output_type": "execute_result"
    }
   ],
   "source": [
    "cost_= cost(theta, xtrain, ytrain, 1)\n",
    "cost_ #变量和函数名不要重复"
   ]
  },
  {
   "cell_type": "code",
   "execution_count": 68,
   "metadata": {},
   "outputs": [],
   "source": [
    "def gradient(theta, x, y, lambda_):\n",
    "    m = x.shape[0]\n",
    "    params = x.shape[1]\n",
    "    theta = np.matrix(theta)\n",
    "    hypo = np.dot(x, theta.T)\n",
    "    error = hypo-y\n",
    "    grad = []\n",
    "    for i in range(params):\n",
    "        temp = np.expand_dims(x[:,i], axis = 1)\n",
    "        common_term = np.sum(np.multiply(error, temp))/m\n",
    "        if(i==0):\n",
    "            grad.append(common_term)\n",
    "        else:\n",
    "            regularized_term = lambda_*theta[0,i]/m\n",
    "            grad.append(common_term+regularized_term)\n",
    "    grad = np.array(grad)\n",
    "    return grad\n"
   ]
  },
  {
   "cell_type": "code",
   "execution_count": 69,
   "metadata": {},
   "outputs": [
    {
     "data": {
      "text/plain": [
       "array([-15.30301567, 598.25074417])"
      ]
     },
     "execution_count": 69,
     "metadata": {},
     "output_type": "execute_result"
    }
   ],
   "source": [
    "grad = gradient(theta, xtrain, ytrain, 1)\n",
    "grad"
   ]
  },
  {
   "cell_type": "code",
   "execution_count": 72,
   "metadata": {},
   "outputs": [
    {
     "data": {
      "text/plain": [
       "(array([13.08771447,  0.367742  ]), 9, 1)"
      ]
     },
     "execution_count": 72,
     "metadata": {},
     "output_type": "execute_result"
    }
   ],
   "source": [
    "import scipy.optimize as opt\n",
    "res = opt.fmin_tnc(func=cost, x0 = theta, fprime=gradient, args=(xtrain,ytrain, 1))\n",
    "res"
   ]
  },
  {
   "cell_type": "code",
   "execution_count": 73,
   "metadata": {},
   "outputs": [
    {
     "data": {
      "text/plain": [
       "22.379541822940315"
      ]
     },
     "execution_count": 73,
     "metadata": {},
     "output_type": "execute_result"
    }
   ],
   "source": [
    "cost(res[0], xtrain, ytrain, 1)"
   ]
  },
  {
   "cell_type": "code",
   "execution_count": 77,
   "metadata": {},
   "outputs": [
    {
     "data": {
      "image/png": "[encoded data removed]",
      "text/plain": [
       "<Figure size 864x576 with 1 Axes>"
      ]
     },
     "metadata": {
      "needs_background": "light"
     },
     "output_type": "display_data"
    }
   ],
   "source": [
    "t = np.matrix(res[0])\n",
    "y = np.dot(xtrain, t.T)\n",
    "fig, ax = plt.subplots(figsize = (12,8))\n",
    "ax.scatter(xtrain[:,1], ytrain, c = 'r', marker = 'o')\n",
    "ax.plot(xtrain[:,1], y)\n",
    "plt.show()"
   ]
  },
  {
   "cell_type": "code",
   "execution_count": 83,
   "metadata": {},
   "outputs": [
    {
     "data": {
      "text/plain": [
       "((12, 1), array([1., 1.]))"
      ]
     },
     "execution_count": 83,
     "metadata": {},
     "output_type": "execute_result"
    }
   ],
   "source": [
    "y.shape, theta"
   ]
  },
  {
   "cell_type": "code",
   "execution_count": 91,
   "metadata": {},
   "outputs": [
    {
     "data": {
      "text/plain": [
       "(21, 2)"
      ]
     },
     "execution_count": 91,
     "metadata": {},
     "output_type": "execute_result"
    }
   ],
   "source": [
    "a = np.ones((xval.shape[0],1))\n",
    "xval = np.c_[a, xval]\n",
    "xval.shape"
   ]
  },
  {
   "cell_type": "code",
   "execution_count": 99,
   "metadata": {},
   "outputs": [],
   "source": [
    "i = 0\n",
    "val_cost = []\n",
    "train_cost = []\n",
    "for i in range(1,xtrain.shape[0]+1):\n",
    "    res = opt.fmin_tnc(func=cost, x0 = theta, args = (xtrain[:i,:], ytrain[:i,:], 1), fprime=gradient)\n",
    "    train_cost.append(cost(res[0], xtrain[:i,:], ytrain[:i,:], 1))\n",
    "    val_cost.append(cost(res[0], xval,yval, 1))\n"
   ]
  },
  {
   "cell_type": "code",
   "execution_count": 100,
   "metadata": {},
   "outputs": [
    {
     "data": {
      "text/plain": [
       "([7.251984225875489e-12,\n",
       "  0.0013070021844454268,\n",
       "  3.3350169674783947,\n",
       "  2.881846874597248,\n",
       "  13.174272951585467,\n",
       "  19.461395509980644,\n",
       "  20.11214877169486,\n",
       "  18.184047027035877,\n",
       "  22.618879930744058,\n",
       "  23.26859779295757,\n",
       "  24.323252617618287,\n",
       "  22.379541822940315],\n",
       " [138.84841147443623,\n",
       "  110.64774513667682,\n",
       "  44.978913351204724,\n",
       "  48.34641331733222,\n",
       "  35.86334521913354,\n",
       "  33.82763421641815,\n",
       "  31.970093126963125,\n",
       "  30.86287614342377,\n",
       "  31.136900612460146,\n",
       "  28.938571854122756,\n",
       "  29.554192628745177,\n",
       "  29.43639619942445])"
      ]
     },
     "execution_count": 100,
     "metadata": {},
     "output_type": "execute_result"
    }
   ],
   "source": [
    "train_cost, val_cost"
   ]
  },
  {
   "cell_type": "code",
   "execution_count": 106,
   "metadata": {},
   "outputs": [
    {
     "data": {
      "image/png": "[encoded data removed]",
      "text/plain": [
       "<Figure size 432x288 with 1 Axes>"
      ]
     },
     "metadata": {
      "needs_background": "light"
     },
     "output_type": "display_data"
    }
   ],
   "source": [
    "x_list = np.arange(1,13)\n",
    "plt.plot(x_list, train_cost, c = 'r',label = 'train')\n",
    "plt.plot(x_list, val_cost, c = 'b', label = 'validation')\n",
    "plt.legend(loc = 1)\n",
    "plt.show()"
   ]
  },
  {
   "cell_type": "markdown",
   "metadata": {},
   "source": [
    "以上可以看出是欠拟合的情况，最后收敛的error还是很大的"
   ]
  },
  {
   "cell_type": "code",
   "execution_count": 108,
   "metadata": {},
   "outputs": [
    {
     "data": {
      "text/plain": [
       "(12, 2)"
      ]
     },
     "execution_count": 108,
     "metadata": {},
     "output_type": "execute_result"
    }
   ],
   "source": [
    "xtrain.shape"
   ]
  },
  {
   "cell_type": "code",
   "execution_count": 110,
   "metadata": {},
   "outputs": [
    {
     "data": {
      "text/plain": [
       "(12, 4)"
      ]
     },
     "execution_count": 110,
     "metadata": {},
     "output_type": "execute_result"
    }
   ],
   "source": [
    "xtrain = np.insert(xtrain, 2, np.power(xtrain[:,1],2), axis = 1)\n",
    "xtrain = np.insert(xtrain, 3, np.power(xtrain[:,1],3), axis = 1)\n",
    "xtrain.shape"
   ]
  },
  {
   "cell_type": "code",
   "execution_count": 120,
   "metadata": {},
   "outputs": [],
   "source": [
    "xtrain[:,1] = (xtrain[:,1]-xtrain[:,1].mean())/xtrain[:,1].std()\n",
    "xtrain[:,2] = (xtrain[:,2]-xtrain[:,2].mean())/xtrain[:,2].std()\n",
    "xtrain[:,3] = (xtrain[:,3]-xtrain[:,3].mean())/xtrain[:,3].std()"
   ]
  },
  {
   "cell_type": "code",
   "execution_count": 121,
   "metadata": {},
   "outputs": [
    {
     "data": {
      "text/plain": [
       "(4,)"
      ]
     },
     "execution_count": 121,
     "metadata": {},
     "output_type": "execute_result"
    }
   ],
   "source": [
    "theta = np.ones(xtrain.shape[1])\n",
    "theta.shape"
   ]
  },
  {
   "cell_type": "code",
   "execution_count": 122,
   "metadata": {},
   "outputs": [
    {
     "data": {
      "text/plain": [
       "(array([11.21758817,  8.86424682,  6.92878267,  3.97105638]), 19, 1)"
      ]
     },
     "execution_count": 122,
     "metadata": {},
     "output_type": "execute_result"
    }
   ],
   "source": [
    "res = opt.fmin_tnc(func=cost, x0 = theta, fprime=gradient, args=(xtrain,ytrain, 1))\n",
    "res"
   ]
  },
  {
   "cell_type": "code",
   "execution_count": 123,
   "metadata": {},
   "outputs": [
    {
     "data": {
      "text/plain": [
       "7.4982777749219025"
      ]
     },
     "execution_count": 123,
     "metadata": {},
     "output_type": "execute_result"
    }
   ],
   "source": [
    "cost(res[0], xtrain, ytrain,1)"
   ]
  },
  {
   "cell_type": "code",
   "execution_count": null,
   "metadata": {},
   "outputs": [],
   "source": []
  }
 ],
 "metadata": {
  "kernelspec": {
   "display_name": "Python 3",
   "language": "python",
   "name": "python3"
  },
  "language_info": {
   "codemirror_mode": {
    "name": "ipython",
    "version": 3
   },
   "file_extension": ".py",
   "mimetype": "text/x-python",
   "name": "python",
   "nbconvert_exporter": "python",
   "pygments_lexer": "ipython3",
   "version": "3.7.3"
  }
 },
 "nbformat": 4,
 "nbformat_minor": 2
}
